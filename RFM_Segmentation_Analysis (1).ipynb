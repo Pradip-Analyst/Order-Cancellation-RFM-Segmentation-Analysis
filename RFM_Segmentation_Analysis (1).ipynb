{
  "cells": [
    {
      "cell_type": "markdown",
      "id": "04bda632",
      "metadata": {
        "id": "04bda632"
      },
      "source": [
        "# 📊 RFM Segmentation Analysis in Python\n",
        "Google Colab compatible notebook based on uploaded Excel file."
      ]
    },
    {
      "cell_type": "code",
      "execution_count": 2,
      "id": "a4c7aa4e",
      "metadata": {
        "id": "a4c7aa4e"
      },
      "outputs": [],
      "source": [
        "import pandas as pd"
      ]
    },
    {
      "cell_type": "markdown",
      "id": "b8e4d794",
      "metadata": {
        "id": "b8e4d794"
      },
      "source": [
        "### 📥 Upload your Excel file"
      ]
    },
    {
      "cell_type": "code",
      "execution_count": 3,
      "id": "0bb82c14",
      "metadata": {
        "colab": {
          "base_uri": "https://localhost:8080/",
          "height": 73
        },
        "id": "0bb82c14",
        "outputId": "989e1898-7c72-441d-8c45-e5c5e0b8c964"
      },
      "outputs": [
        {
          "output_type": "display_data",
          "data": {
            "text/plain": [
              "<IPython.core.display.HTML object>"
            ],
            "text/html": [
              "\n",
              "     <input type=\"file\" id=\"files-aa91b442-54b4-4dbe-a675-e095c1eae274\" name=\"files[]\" multiple disabled\n",
              "        style=\"border:none\" />\n",
              "     <output id=\"result-aa91b442-54b4-4dbe-a675-e095c1eae274\">\n",
              "      Upload widget is only available when the cell has been executed in the\n",
              "      current browser session. Please rerun this cell to enable.\n",
              "      </output>\n",
              "      <script>// Copyright 2017 Google LLC\n",
              "//\n",
              "// Licensed under the Apache License, Version 2.0 (the \"License\");\n",
              "// you may not use this file except in compliance with the License.\n",
              "// You may obtain a copy of the License at\n",
              "//\n",
              "//      http://www.apache.org/licenses/LICENSE-2.0\n",
              "//\n",
              "// Unless required by applicable law or agreed to in writing, software\n",
              "// distributed under the License is distributed on an \"AS IS\" BASIS,\n",
              "// WITHOUT WARRANTIES OR CONDITIONS OF ANY KIND, either express or implied.\n",
              "// See the License for the specific language governing permissions and\n",
              "// limitations under the License.\n",
              "\n",
              "/**\n",
              " * @fileoverview Helpers for google.colab Python module.\n",
              " */\n",
              "(function(scope) {\n",
              "function span(text, styleAttributes = {}) {\n",
              "  const element = document.createElement('span');\n",
              "  element.textContent = text;\n",
              "  for (const key of Object.keys(styleAttributes)) {\n",
              "    element.style[key] = styleAttributes[key];\n",
              "  }\n",
              "  return element;\n",
              "}\n",
              "\n",
              "// Max number of bytes which will be uploaded at a time.\n",
              "const MAX_PAYLOAD_SIZE = 100 * 1024;\n",
              "\n",
              "function _uploadFiles(inputId, outputId) {\n",
              "  const steps = uploadFilesStep(inputId, outputId);\n",
              "  const outputElement = document.getElementById(outputId);\n",
              "  // Cache steps on the outputElement to make it available for the next call\n",
              "  // to uploadFilesContinue from Python.\n",
              "  outputElement.steps = steps;\n",
              "\n",
              "  return _uploadFilesContinue(outputId);\n",
              "}\n",
              "\n",
              "// This is roughly an async generator (not supported in the browser yet),\n",
              "// where there are multiple asynchronous steps and the Python side is going\n",
              "// to poll for completion of each step.\n",
              "// This uses a Promise to block the python side on completion of each step,\n",
              "// then passes the result of the previous step as the input to the next step.\n",
              "function _uploadFilesContinue(outputId) {\n",
              "  const outputElement = document.getElementById(outputId);\n",
              "  const steps = outputElement.steps;\n",
              "\n",
              "  const next = steps.next(outputElement.lastPromiseValue);\n",
              "  return Promise.resolve(next.value.promise).then((value) => {\n",
              "    // Cache the last promise value to make it available to the next\n",
              "    // step of the generator.\n",
              "    outputElement.lastPromiseValue = value;\n",
              "    return next.value.response;\n",
              "  });\n",
              "}\n",
              "\n",
              "/**\n",
              " * Generator function which is called between each async step of the upload\n",
              " * process.\n",
              " * @param {string} inputId Element ID of the input file picker element.\n",
              " * @param {string} outputId Element ID of the output display.\n",
              " * @return {!Iterable<!Object>} Iterable of next steps.\n",
              " */\n",
              "function* uploadFilesStep(inputId, outputId) {\n",
              "  const inputElement = document.getElementById(inputId);\n",
              "  inputElement.disabled = false;\n",
              "\n",
              "  const outputElement = document.getElementById(outputId);\n",
              "  outputElement.innerHTML = '';\n",
              "\n",
              "  const pickedPromise = new Promise((resolve) => {\n",
              "    inputElement.addEventListener('change', (e) => {\n",
              "      resolve(e.target.files);\n",
              "    });\n",
              "  });\n",
              "\n",
              "  const cancel = document.createElement('button');\n",
              "  inputElement.parentElement.appendChild(cancel);\n",
              "  cancel.textContent = 'Cancel upload';\n",
              "  const cancelPromise = new Promise((resolve) => {\n",
              "    cancel.onclick = () => {\n",
              "      resolve(null);\n",
              "    };\n",
              "  });\n",
              "\n",
              "  // Wait for the user to pick the files.\n",
              "  const files = yield {\n",
              "    promise: Promise.race([pickedPromise, cancelPromise]),\n",
              "    response: {\n",
              "      action: 'starting',\n",
              "    }\n",
              "  };\n",
              "\n",
              "  cancel.remove();\n",
              "\n",
              "  // Disable the input element since further picks are not allowed.\n",
              "  inputElement.disabled = true;\n",
              "\n",
              "  if (!files) {\n",
              "    return {\n",
              "      response: {\n",
              "        action: 'complete',\n",
              "      }\n",
              "    };\n",
              "  }\n",
              "\n",
              "  for (const file of files) {\n",
              "    const li = document.createElement('li');\n",
              "    li.append(span(file.name, {fontWeight: 'bold'}));\n",
              "    li.append(span(\n",
              "        `(${file.type || 'n/a'}) - ${file.size} bytes, ` +\n",
              "        `last modified: ${\n",
              "            file.lastModifiedDate ? file.lastModifiedDate.toLocaleDateString() :\n",
              "                                    'n/a'} - `));\n",
              "    const percent = span('0% done');\n",
              "    li.appendChild(percent);\n",
              "\n",
              "    outputElement.appendChild(li);\n",
              "\n",
              "    const fileDataPromise = new Promise((resolve) => {\n",
              "      const reader = new FileReader();\n",
              "      reader.onload = (e) => {\n",
              "        resolve(e.target.result);\n",
              "      };\n",
              "      reader.readAsArrayBuffer(file);\n",
              "    });\n",
              "    // Wait for the data to be ready.\n",
              "    let fileData = yield {\n",
              "      promise: fileDataPromise,\n",
              "      response: {\n",
              "        action: 'continue',\n",
              "      }\n",
              "    };\n",
              "\n",
              "    // Use a chunked sending to avoid message size limits. See b/62115660.\n",
              "    let position = 0;\n",
              "    do {\n",
              "      const length = Math.min(fileData.byteLength - position, MAX_PAYLOAD_SIZE);\n",
              "      const chunk = new Uint8Array(fileData, position, length);\n",
              "      position += length;\n",
              "\n",
              "      const base64 = btoa(String.fromCharCode.apply(null, chunk));\n",
              "      yield {\n",
              "        response: {\n",
              "          action: 'append',\n",
              "          file: file.name,\n",
              "          data: base64,\n",
              "        },\n",
              "      };\n",
              "\n",
              "      let percentDone = fileData.byteLength === 0 ?\n",
              "          100 :\n",
              "          Math.round((position / fileData.byteLength) * 100);\n",
              "      percent.textContent = `${percentDone}% done`;\n",
              "\n",
              "    } while (position < fileData.byteLength);\n",
              "  }\n",
              "\n",
              "  // All done.\n",
              "  yield {\n",
              "    response: {\n",
              "      action: 'complete',\n",
              "    }\n",
              "  };\n",
              "}\n",
              "\n",
              "scope.google = scope.google || {};\n",
              "scope.google.colab = scope.google.colab || {};\n",
              "scope.google.colab._files = {\n",
              "  _uploadFiles,\n",
              "  _uploadFilesContinue,\n",
              "};\n",
              "})(self);\n",
              "</script> "
            ]
          },
          "metadata": {}
        },
        {
          "output_type": "stream",
          "name": "stdout",
          "text": [
            "Saving Order_Cancellation_RFM_Analysis.xlsx to Order_Cancellation_RFM_Analysis.xlsx\n"
          ]
        }
      ],
      "source": [
        "from google.colab import files\n",
        "uploaded = files.upload()"
      ]
    },
    {
      "cell_type": "markdown",
      "id": "edc4de02",
      "metadata": {
        "id": "edc4de02"
      },
      "source": [
        "### 📄 Load the Excel file"
      ]
    },
    {
      "cell_type": "code",
      "execution_count": 4,
      "id": "83e0bf17",
      "metadata": {
        "id": "83e0bf17"
      },
      "outputs": [],
      "source": [
        "file_path = 'Order_Cancellation_RFM_Analysis.xlsx'\n",
        "df = pd.read_excel(file_path, sheet_name='Order Data')"
      ]
    },
    {
      "cell_type": "markdown",
      "id": "1bce7ab8",
      "metadata": {
        "id": "1bce7ab8"
      },
      "source": [
        "### 📆 Preprocess and Calculate RFM Metrics"
      ]
    },
    {
      "cell_type": "code",
      "execution_count": 5,
      "id": "a3f97397",
      "metadata": {
        "id": "a3f97397"
      },
      "outputs": [],
      "source": [
        "df['Order Date'] = pd.to_datetime(df['Order Date'])\n",
        "analysis_date = pd.to_datetime('2024-01-01')  # Adjust if needed\n",
        "\n",
        "rfm = df.groupby('Customer Name').agg({\n",
        "    'Order Date': lambda x: (analysis_date - x.max()).days,\n",
        "    'Order_ID': 'count',\n",
        "    'Revenue': 'sum'\n",
        "}).reset_index()\n",
        "\n",
        "rfm.columns = ['Customer Name', 'Recency', 'Frequency', 'Monetary']"
      ]
    },
    {
      "cell_type": "markdown",
      "id": "2b348669",
      "metadata": {
        "id": "2b348669"
      },
      "source": [
        "### 🧮 RFM Scoring"
      ]
    },
    {
      "cell_type": "code",
      "execution_count": 6,
      "id": "ffef64f8",
      "metadata": {
        "id": "ffef64f8"
      },
      "outputs": [],
      "source": [
        "rfm['R_Score'] = pd.qcut(rfm['Recency'], 3, labels=[3, 2, 1]).astype(int)\n",
        "rfm['F_Score'] = pd.qcut(rfm['Frequency'].rank(method=\"first\"), 3, labels=[1, 2, 3]).astype(int)\n",
        "rfm['M_Score'] = pd.qcut(rfm['Monetary'], 3, labels=[1, 2, 3]).astype(int)\n",
        "\n",
        "rfm['RFM_Score'] = rfm['R_Score'].astype(str) + rfm['F_Score'].astype(str) + rfm['M_Score'].astype(str)"
      ]
    },
    {
      "cell_type": "markdown",
      "id": "a9dd0c68",
      "metadata": {
        "id": "a9dd0c68"
      },
      "source": [
        "### 📌 Segment Customers Based on RFM Score"
      ]
    },
    {
      "cell_type": "code",
      "execution_count": 7,
      "id": "f0b347ed",
      "metadata": {
        "id": "f0b347ed"
      },
      "outputs": [],
      "source": [
        "def segment(x):\n",
        "    if x == '333':\n",
        "        return 'Top-tier Customers'\n",
        "    elif x[0] == '3':\n",
        "        return 'Loyal Customers'\n",
        "    elif x[2] == '3':\n",
        "        return 'High Spenders'\n",
        "    else:\n",
        "        return 'Others'\n",
        "\n",
        "rfm['Segment'] = rfm['RFM_Score'].apply(segment)"
      ]
    },
    {
      "cell_type": "markdown",
      "id": "3f434d26",
      "metadata": {
        "id": "3f434d26"
      },
      "source": [
        "### ✅ Final Output"
      ]
    },
    {
      "cell_type": "code",
      "execution_count": 8,
      "id": "b3d89f61",
      "metadata": {
        "colab": {
          "base_uri": "https://localhost:8080/",
          "height": 243
        },
        "id": "b3d89f61",
        "outputId": "8f06638b-3e7c-49da-86a7-c7e28aa4e558"
      },
      "outputs": [
        {
          "output_type": "stream",
          "name": "stdout",
          "text": [
            "   Customer Name  Recency  Frequency  Monetary  R_Score  F_Score  M_Score  \\\n",
            "0    Aarav Mehta        4        118     31343        2        3        3   \n",
            "1  Aarohi Kapoor        4        106     31744        2        2        3   \n",
            "2     Aditi Iyer        3        121     26949        3        3        2   \n",
            "3    Aditya Basu        6         20      7227        1        1        1   \n",
            "4     Aditya Rao        8         23     10755        1        1        1   \n",
            "\n",
            "  RFM_Score          Segment  \n",
            "0       233    High Spenders  \n",
            "1       223    High Spenders  \n",
            "2       332  Loyal Customers  \n",
            "3       111           Others  \n",
            "4       111           Others  \n"
          ]
        },
        {
          "output_type": "display_data",
          "data": {
            "text/plain": [
              "<IPython.core.display.Javascript object>"
            ],
            "application/javascript": [
              "\n",
              "    async function download(id, filename, size) {\n",
              "      if (!google.colab.kernel.accessAllowed) {\n",
              "        return;\n",
              "      }\n",
              "      const div = document.createElement('div');\n",
              "      const label = document.createElement('label');\n",
              "      label.textContent = `Downloading \"${filename}\": `;\n",
              "      div.appendChild(label);\n",
              "      const progress = document.createElement('progress');\n",
              "      progress.max = size;\n",
              "      div.appendChild(progress);\n",
              "      document.body.appendChild(div);\n",
              "\n",
              "      const buffers = [];\n",
              "      let downloaded = 0;\n",
              "\n",
              "      const channel = await google.colab.kernel.comms.open(id);\n",
              "      // Send a message to notify the kernel that we're ready.\n",
              "      channel.send({})\n",
              "\n",
              "      for await (const message of channel.messages) {\n",
              "        // Send a message to notify the kernel that we're ready.\n",
              "        channel.send({})\n",
              "        if (message.buffers) {\n",
              "          for (const buffer of message.buffers) {\n",
              "            buffers.push(buffer);\n",
              "            downloaded += buffer.byteLength;\n",
              "            progress.value = downloaded;\n",
              "          }\n",
              "        }\n",
              "      }\n",
              "      const blob = new Blob(buffers, {type: 'application/binary'});\n",
              "      const a = document.createElement('a');\n",
              "      a.href = window.URL.createObjectURL(blob);\n",
              "      a.download = filename;\n",
              "      div.appendChild(a);\n",
              "      a.click();\n",
              "      div.remove();\n",
              "    }\n",
              "  "
            ]
          },
          "metadata": {}
        },
        {
          "output_type": "display_data",
          "data": {
            "text/plain": [
              "<IPython.core.display.Javascript object>"
            ],
            "application/javascript": [
              "download(\"download_cc08f4b6-198e-416f-a7fd-8d336a32097a\", \"RFM_Segmentation_Output.csv\", 1669)"
            ]
          },
          "metadata": {}
        }
      ],
      "source": [
        "print(rfm.head())\n",
        "rfm.to_csv('RFM_Segmentation_Output.csv', index=False)\n",
        "files.download('RFM_Segmentation_Output.csv')"
      ]
    }
  ],
  "metadata": {
    "colab": {
      "provenance": []
    },
    "language_info": {
      "name": "python"
    },
    "kernelspec": {
      "name": "python3",
      "display_name": "Python 3"
    }
  },
  "nbformat": 4,
  "nbformat_minor": 5
}